{
 "cells": [
  {
   "cell_type": "code",
   "execution_count": 13,
   "id": "09925565-8c01-4080-8178-82b4f568c47e",
   "metadata": {},
   "outputs": [],
   "source": [
    "from qiskit import QuantumCircuit, transpile\n",
    "from qiskit_ibm_runtime import QiskitRuntimeService, SamplerV2 as Sampler, Batch"
   ]
  },
  {
   "cell_type": "code",
   "execution_count": 12,
   "id": "1c8a2d32-9a12-4310-a11f-9086ea554e0c",
   "metadata": {},
   "outputs": [],
   "source": [
    "import mthree"
   ]
  },
  {
   "cell_type": "code",
   "execution_count": 4,
   "id": "7989e3e6-e8f8-42a7-b9be-d90123ac52f9",
   "metadata": {},
   "outputs": [],
   "source": [
    "instance = 'ibm-q-internal/performance/reservations'\n",
    "service = QiskitRuntimeService(instance=instance)\n",
    "cairo = service.backend(\"ibm_cairo\")"
   ]
  },
  {
   "cell_type": "code",
   "execution_count": 5,
   "id": "8ab455c6-f92e-414d-b804-2880048ec45b",
   "metadata": {},
   "outputs": [],
   "source": [
    "## Create circuits"
   ]
  },
  {
   "cell_type": "code",
   "execution_count": 7,
   "id": "ec9c3778-a3cf-464f-9f03-e61fdfbfcef9",
   "metadata": {},
   "outputs": [],
   "source": [
    "num_qubits = 4\n",
    "qc0 = QuantumCircuit(num_qubits)\n",
    "qc0.h(0)\n",
    "for q in range(1, num_qubits):\n",
    "    qc0.cx(0, q)\n",
    "    qc0.cx(0, q)\n",
    "    qc0.cx(0, q)\n",
    "qc0.measure_all()"
   ]
  },
  {
   "cell_type": "code",
   "execution_count": 8,
   "id": "ff43af7e-f943-4102-86e1-74fadfd9bf97",
   "metadata": {},
   "outputs": [],
   "source": [
    "num_qubits = 5\n",
    "qc1 = QuantumCircuit(num_qubits)\n",
    "qc1.h(0)\n",
    "for q in range(1, num_qubits):\n",
    "    qc1.cx(0, q)\n",
    "    qc1.cx(0, q)\n",
    "    qc1.cx(0, q)\n",
    "qc1.measure_all()"
   ]
  },
  {
   "cell_type": "code",
   "execution_count": 9,
   "id": "c0892b4c-c923-433a-a973-c6f748500e72",
   "metadata": {},
   "outputs": [],
   "source": [
    "num_qubits = 6\n",
    "qc2 = QuantumCircuit(num_qubits)\n",
    "qc2.h(0)\n",
    "for q in range(1, num_qubits):\n",
    "    qc2.cx(0, q)\n",
    "    qc2.cx(0, q)\n",
    "    qc2.cx(0, q)\n",
    "qc2.measure_all()"
   ]
  },
  {
   "cell_type": "markdown",
   "id": "ad1327c1-779f-46a4-bfb1-d5a36327e461",
   "metadata": {},
   "source": [
    "## Transpilation"
   ]
  },
  {
   "cell_type": "code",
   "execution_count": 11,
   "id": "12f6ada2-e9d0-45f8-a91a-c3499dfb814e",
   "metadata": {},
   "outputs": [],
   "source": [
    "trans_qcs = transpile([qc0, qc1, qc2], backend=cairo, optimization_level=3)"
   ]
  },
  {
   "cell_type": "markdown",
   "id": "b7ee2161-e5b3-4d86-8df4-0aa08f9236ab",
   "metadata": {},
   "source": [
    "## Run"
   ]
  },
  {
   "cell_type": "code",
   "execution_count": 14,
   "id": "3d21b8c1-b9c4-4d1d-8156-189a097479a8",
   "metadata": {},
   "outputs": [],
   "source": [
    "m3_mitigators = []\n",
    "jobs = []\n",
    "with Batch(backend=cairo):\n",
    "    sampler = Sampler()\n",
    "    \n",
    "    job0 = sampler.run([trans_qcs[0]])\n",
    "    jobs.append(job0)\n",
    "    # same as before. just supply `sampler` instead of `backend`\n",
    "    m3_mit = mthree.M3Mitigation(sampler)\n",
    "    final_layout = trans_qcs[0].layout.final_index_layout(filter_ancillas=True)\n",
    "    # run the measurement calibration\n",
    "    m3_mit.cals_from_system(qubits=final_layout)\n",
    "    # save the M3mitigation object to apply correction after all HW runs are done\n",
    "    # applying correction later for non-iterative jobs may save time\n",
    "    m3_mitigators.append(m3_mit)\n",
    "\n",
    "    job1 = sampler.run([trans_qcs[1]])\n",
    "    jobs.append(job1)\n",
    "    m3_mit = mthree.M3Mitigation(sampler)\n",
    "    final_layout = trans_qcs[1].layout.final_index_layout(filter_ancillas=True)\n",
    "    m3_mit.cals_from_system(qubits=final_layout)\n",
    "    m3_mitigators.append(m3_mit)\n",
    "\n",
    "    job2 = sampler.run([trans_qcs[2]])\n",
    "    jobs.append(job2)\n",
    "    m3_mit = mthree.M3Mitigation(sampler)\n",
    "    final_layout = trans_qcs[2].layout.final_index_layout(filter_ancillas=True)\n",
    "    m3_mit.cals_from_system(qubits=final_layout)\n",
    "    m3_mitigators.append(m3_mit)"
   ]
  },
  {
   "cell_type": "code",
   "execution_count": 22,
   "id": "30830d4c-a45b-45a4-ba9e-fe324fe61ebf",
   "metadata": {},
   "outputs": [
    {
     "name": "stdout",
     "output_type": "stream",
     "text": [
      "Job 0 raw counts {'0000': 1831, '1111': 1709, '0001': 40, '1101': 128, '1011': 66, '0111': 40, '0100': 58, '0110': 33, '0101': 12, '1001': 20, '1100': 5, '0010': 56, '1110': 51, '1000': 36, '0011': 8, '1010': 3}\n",
      "\n",
      "mitigated quasi prob {'0000': 0.49308399664658237, '0001': -0.009118443107739814, '0010': 0.007029280360616579, '0011': 0.001397553070229798, '0100': 0.002867859059716595, '0101': 0.0021143916381924917, '0110': 0.008416825829240204, '0111': 0.0034392137373366704, '1000': 0.00038828200792753726, '1001': 0.0039863408864391275, '1010': -2.4770310691775155e-05, '1011': 0.007950006702004719, '1100': 1.928917758149729e-06, '1101': 0.010175088722610482, '1110': -0.0013843942055908165, '1111': 0.46967684004536797}\n",
      "\n",
      "\n",
      "##############################\n",
      "Job 1 raw counts {'00000': 1099, '11111': 933, '10111': 55, '00110': 14, '01111': 16, '11011': 65, '11101': 54, '01101': 6, '11110': 21, '01000': 12, '00100': 44, '00010': 53, '10011': 9, '00001': 27, '10000': 19, '10010': 2, '10001': 4, '11010': 3, '10101': 12, '01110': 10, '01001': 4, '01010': 6, '11000': 1, '00101': 5, '10110': 2, '00111': 6, '11001': 8, '01011': 5, '00011': 2, '01100': 1, '11100': 1, '10100': 1}\n",
      "\n",
      "mitigated quasi prob {'00000': 0.5147725930338811, '00001': -0.011029796786761524, '00010': -0.0005250616301358383, '00011': 0.0001364382074765458, '00100': 0.007121783433803029, '00101': 0.0014005674774700914, '00110': 0.005137385377902928, '00111': 0.0019588722604495143, '01000': -0.004892996893242525, '01001': 0.0017143272705642029, '01010': 0.0023920973115358025, '01011': 0.0016486966056899488, '01100': -2.9565296450680548e-05, '01101': 0.002352876230654005, '01110': 0.004356251551233756, '01111': 0.00016117672316954873, '10000': -0.0011980220274488956, '10001': 0.0013148519153801986, '10010': 0.00033962899411318784, '10011': 0.0024261028357175827, '10100': -7.973743194490851e-05, '10101': 0.004108428816596618, '10110': 0.00018033710096484188, '10111': 0.0033663135302870375, '11000': 0.0002589769648585425, '11001': 0.002592585680770489, '11010': 0.0003977043526564544, '11011': 0.02048887857023084, '11100': -0.0002804793086594434, '11101': 0.013322522661170304, '11110': -0.005457670600818284, '11111': 0.4315439330688851}\n",
      "\n",
      "\n",
      "##############################\n",
      "Job 2 raw counts {'111101': 45, '000000': 746, '011111': 59, '111110': 27, '100101': 3, '111111': 615, '011110': 23, '110111': 29, '000010': 73, '101110': 4, '000001': 21, '010000': 36, '101111': 25, '111011': 55, '001011': 3, '100000': 13, '100010': 20, '001000': 17, '000100': 12, '010110': 1, '111100': 5, '011001': 2, '001111': 7, '000110': 13, '001110': 22, '110000': 3, '001001': 1, '011101': 8, '101100': 2, '100100': 1, '000011': 5, '100111': 11, '110011': 4, '010001': 3, '110101': 2, '110001': 4, '011000': 16, '101101': 4, '000111': 2, '011100': 3, '010111': 5, '010011': 1, '011011': 9, '111001': 11, '010100': 2, '101001': 1, '101011': 2, '001010': 7, '100001': 3, '100011': 2, '110110': 3, '010010': 3, '001100': 4, '011010': 2}\n",
      "\n",
      "mitigated quasi prob {'000000': 0.4613752864199104, '000001': -0.004981685490082645, '000010': 0.014957221957410399, '000011': 0.001524894090682902, '000100': -0.0028705965445973754, '000110': 0.0065728559660809755, '000111': 0.0004407575628430625, '001000': -0.012811410485367785, '001001': 0.0003537153294013334, '001010': 0.002449678701068827, '001011': 0.001336110177723882, '001100': 0.0017094774618971532, '001110': 0.01193258872303571, '001111': 0.002373458792187664, '010000': 0.009179159546878524, '010001': 0.000976215230875763, '010010': -1.2064798531780701e-05, '010011': 0.00019606431914478555, '010100': 0.000743544779209294, '010110': -0.0001548479663641427, '010111': 0.0016205681574240497, '011000': 0.00874131567069558, '011001': 0.00029218260066244783, '011010': 0.00013260448523851352, '011011': 0.0034534896642498163, '011100': 0.000795708509527955, '011101': 0.0027008339717960327, '011110': 0.011850673517053262, '011111': 0.017767418630878086, '100000': -0.0005080268077111953, '100001': 0.0015449999548193222, '100010': 0.010675097193259406, '100011': 0.00046676283943913367, '100100': 0.00038197525772247845, '100101': 0.001456630011787963, '100111': 0.005858086765741119, '101001': 0.0003167949656056639, '101011': 0.00018744973268161247, '101100': 0.0009689013349308582, '101101': 0.0013707335333966013, '101110': 0.001481342706345881, '101111': 0.005358670410641906, '110000': 0.0012736183181320897, '110001': 0.002136019421747152, '110011': 0.0012064433968640115, '110101': 9.163785911141814e-05, '110110': 0.001079682297757611, '110111': 0.007079377080328062, '111001': 0.0050042640233737565, '111011': 0.02584735089704746, '111100': 0.0019288329657094069, '111101': 0.012903047048470463, '111110': 0.00445415209650789, '111111': 0.36479093771535726}\n",
      "\n",
      "\n",
      "##############################\n"
     ]
    }
   ],
   "source": [
    "for idx, job in enumerate(jobs):\n",
    "    raw_counts = job.result()[0].data.meas.get_counts()\n",
    "    print(f'Job {idx} raw counts {raw_counts}\\n')\n",
    "\n",
    "    quasi_prob = m3_mitigators[idx].apply_correction(\n",
    "        counts=raw_counts,\n",
    "        qubits=trans_qcs[idx].layout.final_index_layout(filter_ancillas=True),\n",
    "        distance=6, # to save time for circuits with many qubits\n",
    "    )\n",
    "    print(f'mitigated quasi prob {quasi_prob}\\n\\n')\n",
    "    print(\"#\"*30)"
   ]
  },
  {
   "cell_type": "code",
   "execution_count": null,
   "id": "0eaa98b9-84dc-4256-bcdf-7cc139e182ba",
   "metadata": {},
   "outputs": [],
   "source": []
  }
 ],
 "metadata": {
  "kernelspec": {
   "display_name": "Python 3 (ipykernel)",
   "language": "python",
   "name": "python3"
  },
  "language_info": {
   "codemirror_mode": {
    "name": "ipython",
    "version": 3
   },
   "file_extension": ".py",
   "mimetype": "text/x-python",
   "name": "python",
   "nbconvert_exporter": "python",
   "pygments_lexer": "ipython3",
   "version": "3.11.9"
  }
 },
 "nbformat": 4,
 "nbformat_minor": 5
}
