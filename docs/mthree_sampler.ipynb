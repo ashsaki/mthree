{
 "cells": [
  {
   "cell_type": "code",
   "execution_count": 1,
   "id": "0250c8e0-6a88-4007-b7c1-e72c8677b68d",
   "metadata": {},
   "outputs": [],
   "source": [
    "%load_ext autoreload\n",
    "\n",
    "%autoreload 2"
   ]
  },
  {
   "cell_type": "code",
   "execution_count": 2,
   "id": "09925565-8c01-4080-8178-82b4f568c47e",
   "metadata": {},
   "outputs": [],
   "source": [
    "from qiskit import QuantumCircuit, transpile\n",
    "from qiskit_ibm_runtime import QiskitRuntimeService, SamplerV2 as Sampler, Batch"
   ]
  },
  {
   "cell_type": "code",
   "execution_count": 27,
   "id": "1c8a2d32-9a12-4310-a11f-9086ea554e0c",
   "metadata": {},
   "outputs": [],
   "source": [
    "import mthree"
   ]
  },
  {
   "cell_type": "code",
   "execution_count": 4,
   "id": "7989e3e6-e8f8-42a7-b9be-d90123ac52f9",
   "metadata": {},
   "outputs": [],
   "source": [
    "service = QiskitRuntimeService()\n",
    "backend = service.backend(\"ibm_brisbane\")"
   ]
  },
  {
   "cell_type": "markdown",
   "id": "d6d5e0ee-fd40-4e46-92c4-799cac8ba727",
   "metadata": {},
   "source": [
    "## Create circuits"
   ]
  },
  {
   "cell_type": "code",
   "execution_count": 7,
   "id": "ec9c3778-a3cf-464f-9f03-e61fdfbfcef9",
   "metadata": {},
   "outputs": [],
   "source": [
    "qubits = [4, 5, 6]\n",
    "circuits = []\n",
    "\n",
    "for num_qubits in qubits:\n",
    "    qc = QuantumCircuit(num_qubits)\n",
    "    qc.h(0)\n",
    "    for q in range(1, num_qubits):\n",
    "        qc.cx(0, q)\n",
    "    qc.measure_all()\n",
    "    \n",
    "    circuits.append(qc)"
   ]
  },
  {
   "cell_type": "markdown",
   "id": "ad1327c1-779f-46a4-bfb1-d5a36327e461",
   "metadata": {},
   "source": [
    "## Transpilation"
   ]
  },
  {
   "cell_type": "code",
   "execution_count": 8,
   "id": "12f6ada2-e9d0-45f8-a91a-c3499dfb814e",
   "metadata": {},
   "outputs": [],
   "source": [
    "trans_qcs = transpile(circuits, backend=backend, optimization_level=3)"
   ]
  },
  {
   "cell_type": "markdown",
   "id": "b7ee2161-e5b3-4d86-8df4-0aa08f9236ab",
   "metadata": {},
   "source": [
    "## Run"
   ]
  },
  {
   "cell_type": "code",
   "execution_count": 9,
   "id": "3d21b8c1-b9c4-4d1d-8156-189a097479a8",
   "metadata": {},
   "outputs": [],
   "source": [
    "m3_mitigators = []\n",
    "jobs = []\n",
    "with Batch(backend=backend) as batch:\n",
    "    sampler = Sampler(session=batch)\n",
    "    \n",
    "    for circuit in trans_qcs:    \n",
    "        job = sampler.run([circuit])\n",
    "        jobs.append(job)\n",
    "        \n",
    "        # same as before. just supply `sampler` instead of `backend`\n",
    "        m3_mit = mthree.M3Mitigation(system=sampler)\n",
    "        \n",
    "        # run the measurement calibration\n",
    "        # `async_cal=True` makes the cals non-blocking so that\n",
    "        # next set of <main job> and <cals job> will be submitted immediately\n",
    "        # without waiting for the previous set to finish\n",
    "        final_layout = circuit.layout.final_index_layout(filter_ancillas=True)\n",
    "        m3_mit.cals_from_system(qubits=final_layout, async_cal=True)\n",
    "        \n",
    "        # save the M3mitigation object to apply correction after all HW runs are done\n",
    "        # applying correction later for non-iterative jobs may save time\n",
    "        m3_mitigators.append(m3_mit)"
   ]
  },
  {
   "cell_type": "markdown",
   "id": "83226e04-5c49-4526-9424-8cf31ae75c6c",
   "metadata": {},
   "source": [
    "## Post-process"
   ]
  },
  {
   "cell_type": "code",
   "execution_count": 26,
   "id": "30830d4c-a45b-45a4-ba9e-fe324fe61ebf",
   "metadata": {},
   "outputs": [
    {
     "name": "stdout",
     "output_type": "stream",
     "text": [
      ">> Job 0\n",
      "raw counts {'1111': 1729, '0111': 51, '0000': 1847, '1101': 159, '1011': 77, '0010': 109, '0100': 55, '0110': 7, '1001': 14, '0101': 10, '1110': 17, '1100': 1, '1010': 2, '0011': 3, '1000': 15}\n",
      "\n",
      "mitigated quasi prob {'0110': 0.0009172780678962695, '0101': 0.0011848151634769452, '1001': 0.0021350313338795507, '0111': 0.002976714064684803, '0100': 0.007059469332903917, '1011': 0.009252621521753135, '0010': 0.0232327360522948, '1101': 0.033419728140637976, '1111': 0.45434085374662897, '0000': 0.4654806988405825}\n",
      "\n",
      "\n",
      ">> Job 1\n",
      "raw counts {'00010': 348, '10000': 23, '11111': 1344, '00000': 1376, '11101': 417, '01111': 81, '11011': 88, '00100': 110, '01001': 9, '11110': 8, '11001': 94, '00110': 81, '10111': 17, '01110': 8, '10001': 8, '01101': 19, '01000': 11, '10011': 2, '10100': 9, '01011': 11, '00011': 1, '00001': 2, '10110': 7, '10010': 9, '01100': 1, '00111': 2, '10101': 3, '11000': 2, '01010': 2, '11100': 3}\n",
      "\n",
      "mitigated quasi prob {'10010': 0.0007423601584763601, '10000': 0.0007871927778950929, '10110': 0.0011244094545968047, '01001': 0.001322768096678779, '01110': 0.0013306020480423832, '10001': 0.0014108143774590387, '10100': 0.0015273410854163905, '01101': 0.0016472854498498922, '01011': 0.0018315224641667553, '01111': 0.012805763114656801, '11011': 0.018500819759726457, '00110': 0.019074091130244657, '00100': 0.0215637353357399, '11001': 0.022493128249000426, '00010': 0.08627681811016659, '11101': 0.09796425813366809, '00000': 0.3544276346993799, '11111': 0.35516905308231544}\n",
      "\n",
      "\n",
      ">> Job 2\n",
      "raw counts {'011101': 3, '011010': 6, '110001': 154, '111111': 424, '110011': 56, '111101': 138, '111011': 889, '000000': 1122, '000100': 389, '001000': 69, '011000': 22, '101011': 48, '110101': 90, '110111': 31, '001010': 122, '101001': 14, '010000': 34, '010010': 6, '111001': 126, '101101': 10, '001110': 82, '100011': 8, '001100': 44, '000010': 32, '111100': 3, '111110': 2, '011100': 6, '100000': 19, '011110': 3, '101111': 14, '011111': 6, '000110': 21, '010100': 11, '011011': 10, '100100': 9, '010101': 4, '100010': 1, '110000': 3, '010110': 1, '101010': 5, '000001': 5, '100001': 13, '100111': 4, '000011': 3, '001011': 3, '011001': 4, '101100': 1, '111000': 2, '101110': 2, '100101': 7, '010001': 5, '110100': 1, '111010': 5, '000101': 2, '110110': 1, '001001': 1}\n",
      "\n",
      "mitigated quasi prob {'011011': 1.3071016411143017e-05, '001001': 3.517814581927729e-05, '111000': 3.986252584497534e-05, '100010': 4.2799210819714585e-05, '010110': 9.707143862756349e-05, '101110': 0.00010362674171351064, '110110': 0.0001229438869104942, '110000': 0.0001791171209627709, '011111': 0.00030268772415189567, '011101': 0.0003046370679680295, '100000': 0.00032061898760014077, '111100': 0.0003519251673168952, '001011': 0.0003527661296838897, '011110': 0.00044957025485530103, '011001': 0.0005804455509213441, '101010': 0.0006421999614406031, '000011': 0.0006465230802600841, '100100': 0.0007094101369593663, '010101': 0.0007234919826007589, '100111': 0.0007472393501525443, '010001': 0.0007493980292347113, '101111': 0.0008180277750738285, '011010': 0.0010369597478702027, '100101': 0.0011668032002635634, '011100': 0.001289900106347206, '010010': 0.001329547473027217, '100011': 0.001568792733498891, '010100': 0.0016107275962842563, '101101': 0.0016294699447153475, '100001': 0.0023073307393096285, '101001': 0.0026289784064819125, '000110': 0.0038136846861303187, '000010': 0.003982444894589393, '011000': 0.005414533689239439, '010000': 0.005483604980770319, '110111': 0.006663576879921492, '101011': 0.006839701432607408, '001100': 0.009265947076827067, '110011': 0.01170043263022351, '001000': 0.011912537420245343, '001110': 0.020800841416313838, '110101': 0.023220952481915594, '111001': 0.028996500790394786, '001010': 0.030934375925931536, '111101': 0.03477813159058985, '110001': 0.03997100653152724, '000100': 0.09931692560960444, '111111': 0.10924002496878649, '111011': 0.2313292745526671, '000000': 0.29343427658982246}\n",
      "\n",
      "\n"
     ]
    }
   ],
   "source": [
    "for idx, job in enumerate(jobs):\n",
    "    raw_counts = job.result()[0].data.meas.get_counts()\n",
    "    print(f\">> Job {idx}\")\n",
    "    print(f\"raw counts {raw_counts}\\n\")\n",
    "\n",
    "    quasi_prob = m3_mitigators[idx].apply_correction(\n",
    "        counts=raw_counts,\n",
    "        qubits=trans_qcs[idx].layout.final_index_layout(filter_ancillas=True),\n",
    "        distance=6, # to save time for circuits with many qubits\n",
    "    )\n",
    "    print(f\"mitigated quasi prob {quasi_prob.nearest_probability_distribution()}\\n\\n\")"
   ]
  },
  {
   "cell_type": "code",
   "execution_count": null,
   "id": "8cbe51fa-5603-4c20-840c-f1a0dd3a1799",
   "metadata": {},
   "outputs": [],
   "source": []
  }
 ],
 "metadata": {
  "kernelspec": {
   "display_name": "Python 3 (ipykernel)",
   "language": "python",
   "name": "python3"
  },
  "language_info": {
   "codemirror_mode": {
    "name": "ipython",
    "version": 3
   },
   "file_extension": ".py",
   "mimetype": "text/x-python",
   "name": "python",
   "nbconvert_exporter": "python",
   "pygments_lexer": "ipython3",
   "version": "3.11.9"
  }
 },
 "nbformat": 4,
 "nbformat_minor": 5
}
